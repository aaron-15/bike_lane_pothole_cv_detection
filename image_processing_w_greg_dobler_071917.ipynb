{
 "cells": [
  {
   "cell_type": "code",
   "execution_count": 1,
   "metadata": {
    "collapsed": false
   },
   "outputs": [],
   "source": [
    "import scipy.ndimage as nd\n",
    "import os\n",
    "import functions\n",
    "import pandas as pd\n",
    "import numpy as np\n",
    "import geopandas as gpd\n",
    "import psycopg2\n",
    "\n",
    "import os\n",
    "import sys\n",
    "import time\n",
    "import scipy.ndimage as nd\n",
    "import matplotlib.pyplot as plt\n",
    "\n",
    "%matplotlib tk\n",
    "plt.ion() # set interactive mpl\n",
    "plt.rcParams[\"image.cmap\"] = \"gist_gray\""
   ]
  },
  {
   "cell_type": "code",
   "execution_count": 2,
   "metadata": {
    "collapsed": true
   },
   "outputs": [],
   "source": [
    "def getPhoto(photoURL):\n",
    "    photoName = photoURL.split('/')[-1]\n",
    "    os.system('wget ' + photoURL)\n",
    "    img = nd.imread(photoName)\n",
    "    os.system('rm ' + photoName)\n",
    "    return img\n",
    "\n",
    "def photoCroping(photoURL):\n",
    "    img = getPhoto(photoURL)\n",
    "    \n",
    "    #number of rows and number of col\n",
    "    nrow, ncol = img.shape[:2]\n",
    "    croppedPicture = img[nrow//4:,:,:]\n",
    "    return croppedPicture\n",
    "\n",
    "def photoPlot(img):\n",
    "    nrow, ncol = img.shape[:2]\n",
    "    xsize = 10.\n",
    "    ysize = xsize * float(nrow) / float(ncol)\n",
    "    \n",
    "    \n",
    "    fig0, ax0 = plt.subplots(num=0, figsize=[xsize, ysize])\n",
    "    fig0.subplots_adjust(0, 0, 1, 1)\n",
    "    ax0.axis(\"off\")\n",
    "    im0 = ax0.imshow(img)\n",
    "    fig0.canvas.draw()"
   ]
  },
  {
   "cell_type": "code",
   "execution_count": 3,
   "metadata": {
    "collapsed": false
   },
   "outputs": [],
   "source": [
    "full_filename = os.path.join(\"pictures\", \"green_bike_lane_1.png\")\n",
    "img = nd.imread(full_filename)\n",
    "photoPlot(img)"
   ]
  },
  {
   "cell_type": "code",
   "execution_count": 4,
   "metadata": {
    "collapsed": false
   },
   "outputs": [],
   "source": [
    "if img.shape[2] == 4:\n",
    "    img = img[:,:,:3]"
   ]
  },
  {
   "cell_type": "code",
   "execution_count": 5,
   "metadata": {
    "collapsed": false
   },
   "outputs": [],
   "source": [
    "gf = nd.filters.gaussian_filter\n",
    "red, grn, blu = img.transpose(2, 0, 1)"
   ]
  },
  {
   "cell_type": "code",
   "execution_count": 6,
   "metadata": {
    "collapsed": true
   },
   "outputs": [],
   "source": [
    "photoPlot(img)"
   ]
  },
  {
   "cell_type": "code",
   "execution_count": 7,
   "metadata": {
    "collapsed": true
   },
   "outputs": [],
   "source": [
    "photoPlot(red)"
   ]
  },
  {
   "cell_type": "code",
   "execution_count": 8,
   "metadata": {
    "collapsed": true
   },
   "outputs": [],
   "source": [
    "photoPlot(grn)"
   ]
  },
  {
   "cell_type": "code",
   "execution_count": 10,
   "metadata": {
    "collapsed": false
   },
   "outputs": [],
   "source": [
    "photoPlot(blu)"
   ]
  },
  {
   "cell_type": "code",
   "execution_count": 19,
   "metadata": {
    "collapsed": true
   },
   "outputs": [],
   "source": [
    "wind = (red > 180) & (grn > 180) & (blu > 180)"
   ]
  },
  {
   "cell_type": "code",
   "execution_count": 20,
   "metadata": {
    "collapsed": true
   },
   "outputs": [],
   "source": [
    "photoPlot(wind)"
   ]
  },
  {
   "cell_type": "code",
   "execution_count": 23,
   "metadata": {
    "collapsed": false
   },
   "outputs": [],
   "source": [
    "photoPlot(gf(1.0 * wind, 5))"
   ]
  },
  {
   "cell_type": "code",
   "execution_count": 24,
   "metadata": {
    "collapsed": true
   },
   "outputs": [],
   "source": [
    "photoPlot(gf(1.0 * wind, 40) > 0.08)"
   ]
  },
  {
   "cell_type": "code",
   "execution_count": 25,
   "metadata": {
    "collapsed": true
   },
   "outputs": [],
   "source": [
    "img_L = img.mean(-1)"
   ]
  },
  {
   "cell_type": "code",
   "execution_count": 1,
   "metadata": {
    "collapsed": false
   },
   "outputs": [
    {
     "ename": "NameError",
     "evalue": "name 'photoPlot' is not defined",
     "output_type": "error",
     "traceback": [
      "\u001b[0;31m---------------------------------------------------------------------------\u001b[0m",
      "\u001b[0;31mNameError\u001b[0m                                 Traceback (most recent call last)",
      "\u001b[0;32m<ipython-input-1-9da4bfde1c7b>\u001b[0m in \u001b[0;36m<module>\u001b[0;34m()\u001b[0m\n\u001b[0;32m----> 1\u001b[0;31m \u001b[0mphotoPlot\u001b[0m\u001b[0;34m(\u001b[0m\u001b[0mimg_L\u001b[0m\u001b[0;34m)\u001b[0m\u001b[0;34m\u001b[0m\u001b[0m\n\u001b[0m",
      "\u001b[0;31mNameError\u001b[0m: name 'photoPlot' is not defined"
     ]
    }
   ],
   "source": [
    "photoPlot(img_L)"
   ]
  },
  {
   "cell_type": "code",
   "execution_count": 27,
   "metadata": {
    "collapsed": true
   },
   "outputs": [],
   "source": [
    "img_L = gf(img_L, 2)\n",
    "photoPlot(img_L)"
   ]
  },
  {
   "cell_type": "code",
   "execution_count": 28,
   "metadata": {
    "collapsed": true
   },
   "outputs": [],
   "source": [
    "img_Lsm = gf(img_L, 2)\n",
    "gd = np.abs((img_Lsm[2:, 2:] - img_Lsm[:-2, 2:]) + (img_Lsm[2:, 2:] - img_Lsm[2:, :-2]))\n",
    "photoPlot(gd)"
   ]
  },
  {
   "cell_type": "code",
   "execution_count": 32,
   "metadata": {
    "collapsed": true
   },
   "outputs": [],
   "source": [
    "photoPlot(gd > 20)"
   ]
  },
  {
   "cell_type": "code",
   "execution_count": 33,
   "metadata": {
    "collapsed": true
   },
   "outputs": [],
   "source": [
    "edges = gd > 20"
   ]
  },
  {
   "cell_type": "code",
   "execution_count": 34,
   "metadata": {
    "collapsed": true
   },
   "outputs": [],
   "source": [
    "wreg = gf(1.0 * wind, 40) > 0.08"
   ]
  },
  {
   "cell_type": "code",
   "execution_count": 35,
   "metadata": {
    "collapsed": true
   },
   "outputs": [],
   "source": [
    "photoPlot(wreg)"
   ]
  },
  {
   "cell_type": "code",
   "execution_count": null,
   "metadata": {
    "collapsed": true
   },
   "outputs": [],
   "source": []
  }
 ],
 "metadata": {
  "kernelspec": {
   "display_name": "Python [Root]",
   "language": "python",
   "name": "Python [Root]"
  },
  "language_info": {
   "codemirror_mode": {
    "name": "ipython",
    "version": 2
   },
   "file_extension": ".py",
   "mimetype": "text/x-python",
   "name": "python",
   "nbconvert_exporter": "python",
   "pygments_lexer": "ipython2",
   "version": "2.7.12"
  }
 },
 "nbformat": 4,
 "nbformat_minor": 2
}
