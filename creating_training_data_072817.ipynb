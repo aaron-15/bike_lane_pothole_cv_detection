{
 "cells": [
  {
   "cell_type": "code",
   "execution_count": 1,
   "metadata": {
    "collapsed": false
   },
   "outputs": [],
   "source": [
    "import os\n",
    "import numpy as np\n",
    "import scipy.ndimage as nd\n",
    "import matplotlib.pyplot as plt\n",
    "\n",
    "plt.ion() # set interactive matplotlib\n",
    "\n",
    "# -- read in an image with scipy.ndimage\n",
    "dpath  = \"pictures\"\n",
    "fname  = \"green_bike_lane_1.jpg\"\n",
    "infile = os.path.join(dpath, fname)\n",
    "img    = nd.imread(infile)"
   ]
  },
  {
   "cell_type": "code",
   "execution_count": 2,
   "metadata": {
    "collapsed": true
   },
   "outputs": [],
   "source": [
    "# -- display it using matplotlib\n",
    "ysize = 3.\n",
    "xsize = ysize * float(img.shape[1]) / float(img.shape[0])\n",
    "\n",
    "fig_sp, ax_sp = plt.subplots(num=0, figsize=[xsize, ysize])\n",
    "fig_sp.subplots_adjust(0, 0, 1, 1)\n",
    "ax_sp.axis(\"off\")\n",
    "im_sp = ax_sp.imshow(img)\n",
    "fig_sp.canvas.draw()"
   ]
  },
  {
   "cell_type": "code",
   "execution_count": 3,
   "metadata": {
    "collapsed": false
   },
   "outputs": [
    {
     "name": "stderr",
     "output_type": "stream",
     "text": [
      "/Users/geoffperrin/anaconda2/lib/python2.7/site-packages/matplotlib/backend_bases.py:2453: MatplotlibDeprecationWarning: Using default event loop until function specific to this GUI is implemented\n",
      "  warnings.warn(str, mplDeprecation)\n"
     ]
    }
   ],
   "source": [
    "# -- grab a point off of the image using ginput\n",
    "cpos, rpos = [int(round(i)) for i in fig_sp.ginput()[0]]"
   ]
  },
  {
   "cell_type": "code",
   "execution_count": 4,
   "metadata": {
    "collapsed": true
   },
   "outputs": [],
   "source": [
    "nrow, ncol = img.shape[:2]\n",
    "npix = nrow * ncol\n",
    "rind = np.arange(npix).reshape(nrow, ncol) // ncol\n",
    "cind = np.arange(npix).reshape(nrow, ncol) % ncol"
   ]
  },
  {
   "cell_type": "code",
   "execution_count": 5,
   "metadata": {
    "collapsed": false
   },
   "outputs": [],
   "source": [
    "# -- set the mask pixels within some aperature to 1\n",
    "mask = np.ones(img.shape, dtype=np.uint8)\n",
    "box_length = 50\n",
    "mask[(abs(rind - rpos) < box_length) & (abs(cind - cpos) < box_length)] = [0.5, 0.5, 0.5]"
   ]
  },
  {
   "cell_type": "code",
   "execution_count": 6,
   "metadata": {
    "collapsed": false
   },
   "outputs": [],
   "source": [
    "# -- redisplay the masked image\n",
    "im_sp.set_data(img * mask)\n",
    "fig_sp.canvas.draw()"
   ]
  },
  {
   "cell_type": "code",
   "execution_count": 38,
   "metadata": {
    "collapsed": true
   },
   "outputs": [],
   "source": [
    "def save(path, ext='jpg', close=True, verbose=True):\n",
    "    \"\"\"Save a figure from pyplot.\n",
    "    Parameters\n",
    "    ----------\n",
    "    path : string\n",
    "        The path (and filename, without the extension) to save the\n",
    "        figure to.\n",
    "    ext : string (default='png')\n",
    "        The file extension. This must be supported by the active\n",
    "        matplotlib backend (see matplotlib.backends module).  Most\n",
    "        backends support 'png', 'pdf', 'ps', 'eps', and 'svg'.\n",
    "    close : boolean (default=True)\n",
    "        Whether to close the figure after saving.  If you want to save\n",
    "        the figure multiple times (e.g., to multiple formats), you\n",
    "        should NOT close it in between saves or you will have to\n",
    "        re-plot it.\n",
    "    verbose : boolean (default=True)\n",
    "        Whether to print information about when and where the image\n",
    "        has been saved.\n",
    "    \"\"\"\n",
    "    \n",
    "    # Extract the directory and filename from the given path\n",
    "    directory = os.path.split(path)[0]\n",
    "    filename = \"%s.%s\" % (os.path.split(path)[1], ext)\n",
    "    if directory == '':\n",
    "        directory = '.'\n",
    "\n",
    "    # If the directory does not exist, create it\n",
    "    if not os.path.exists(directory):\n",
    "        os.makedirs(directory)\n",
    "\n",
    "    # The final path to save to\n",
    "    savepath = os.path.join(directory, filename)\n",
    "\n",
    "    if verbose:\n",
    "        print(\"Saving figure to '%s'...\" % savepath),\n",
    "\n",
    "    # Actually save the figure\n",
    "    plt.savefig(savepath)\n",
    "    \n",
    "    # Close it\n",
    "    if close:\n",
    "        plt.close()\n",
    "\n",
    "    if verbose:\n",
    "        print(\"Done\")"
   ]
  },
  {
   "cell_type": "code",
   "execution_count": 7,
   "metadata": {
    "collapsed": false
   },
   "outputs": [
    {
     "name": "stderr",
     "output_type": "stream",
     "text": [
      "Exception in Tkinter callback\n",
      "Traceback (most recent call last):\n",
      "  File \"/Users/geoffperrin/anaconda2/lib/python2.7/lib-tk/Tkinter.py\", line 1537, in __call__\n",
      "    return self.func(*args)\n",
      "  File \"/Users/geoffperrin/anaconda2/lib/python2.7/lib-tk/Tkinter.py\", line 587, in callit\n",
      "    func(*args)\n",
      "  File \"/Users/geoffperrin/anaconda2/lib/python2.7/site-packages/matplotlib/backends/backend_tkagg.py\", line 370, in idle_draw\n",
      "    self.draw()\n",
      "  File \"/Users/geoffperrin/anaconda2/lib/python2.7/site-packages/matplotlib/backends/backend_tkagg.py\", line 352, in draw\n",
      "    tkagg.blit(self._tkphoto, self.renderer._renderer, colormode=2)\n",
      "  File \"/Users/geoffperrin/anaconda2/lib/python2.7/site-packages/matplotlib/backends/tkagg.py\", line 30, in blit\n",
      "    id(data), colormode, id(bbox_array))\n",
      "TclError: this isn't a Tk application\n"
     ]
    }
   ],
   "source": [
    "# -- loop through clicks\n",
    "rflag = True\n",
    "while rflag:\n",
    "    try:\n",
    "        cpos, rpos = [int(round(i)) for i in fig_sp.ginput()[0]]\n",
    "        mask[(abs(rind - rpos) < box_length) & (abs(cind - cpos) < box_length)] = [0.5, 0.5, 0.5]\n",
    "        im_sp.set_data(img * mask)\n",
    "        #save(\"defect\", ext=\"jpg\", close=True, verbose=True)\n",
    "        fig_sp.canvas.draw()\n",
    "        mask.savefig('mask.jpg')\n",
    "    except:\n",
    "        rflag = False"
   ]
  },
  {
   "cell_type": "code",
   "execution_count": 8,
   "metadata": {
    "collapsed": true
   },
   "outputs": [],
   "source": [
    "plt.close(\"all\")"
   ]
  },
  {
   "cell_type": "code",
   "execution_count": null,
   "metadata": {
    "collapsed": true
   },
   "outputs": [],
   "source": []
  }
 ],
 "metadata": {
  "kernelspec": {
   "display_name": "Python [Root]",
   "language": "python",
   "name": "Python [Root]"
  },
  "language_info": {
   "codemirror_mode": {
    "name": "ipython",
    "version": 2
   },
   "file_extension": ".py",
   "mimetype": "text/x-python",
   "name": "python",
   "nbconvert_exporter": "python",
   "pygments_lexer": "ipython2",
   "version": "2.7.12"
  }
 },
 "nbformat": 4,
 "nbformat_minor": 2
}
