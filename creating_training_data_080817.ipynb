{
 "cells": [
  {
   "cell_type": "code",
   "execution_count": 3,
   "metadata": {
    "collapsed": false
   },
   "outputs": [],
   "source": [
    "import os\n",
    "import numpy as np\n",
    "import scipy.ndimage as nd\n",
    "import matplotlib.pyplot as plt\n",
    "\n",
    "plt.ion() # set interactive matplotlib\n",
    "\n",
    "# -- read in an image with scipy.ndimage\n",
    "dpath  = \"raw_pictures\"\n",
    "training_path = \"/Users/geoffperrin/Desktop/CUSP/capstone/computer_vision/training_pictures\""
   ]
  },
  {
   "cell_type": "code",
   "execution_count": 4,
   "metadata": {
    "collapsed": true
   },
   "outputs": [],
   "source": [
    "def save(path, ext='jpg', close=True, verbose=True):\n",
    "    \"\"\"Save a figure from pyplot.\n",
    "    Parameters\n",
    "    ----------\n",
    "    path : string\n",
    "        The path (and filename, without the extension) to save the\n",
    "        figure to.\n",
    "    ext : string (default='png')\n",
    "        The file extension. This must be supported by the active\n",
    "        matplotlib backend (see matplotlib.backends module).  Most\n",
    "        backends support 'png', 'pdf', 'ps', 'eps', and 'svg'.\n",
    "    close : boolean (default=True)\n",
    "        Whether to close the figure after saving.  If you want to save\n",
    "        the figure multiple times (e.g., to multiple formats), you\n",
    "        should NOT close it in between saves or you will have to\n",
    "        re-plot it.\n",
    "    verbose : boolean (default=True)\n",
    "        Whether to print information about when and where the image\n",
    "        has been saved.\n",
    "    \"\"\"\n",
    "    \n",
    "    # Extract the directory and filename from the given path\n",
    "    directory = os.path.split(path)[0]\n",
    "    filename = \"%s.%s\" % (os.path.split(path)[1], ext)\n",
    "    if directory == '':\n",
    "        directory = '.'\n",
    "\n",
    "    # If the directory does not exist, create it\n",
    "    if not os.path.exists(directory):\n",
    "        os.makedirs(directory)\n",
    "\n",
    "    # The final path to save to\n",
    "    savepath = os.path.join(directory, filename)\n",
    "\n",
    "    if verbose:\n",
    "        print(\"Saving figure to '%s'...\" % savepath),\n",
    "\n",
    "    # Actually save the figure\n",
    "    plt.savefig(savepath)\n",
    "    \n",
    "    # Close it\n",
    "    if close:\n",
    "        plt.close()\n",
    "\n",
    "    if verbose:\n",
    "        print(\"Done\")"
   ]
  },
  {
   "cell_type": "markdown",
   "metadata": {},
   "source": [
    "## First, loop through images and click on positive defects (i.e., potholes)"
   ]
  },
  {
   "cell_type": "code",
   "execution_count": 5,
   "metadata": {
    "collapsed": false
   },
   "outputs": [
    {
     "name": "stderr",
     "output_type": "stream",
     "text": [
      "/Users/geoffperrin/anaconda2/lib/python2.7/site-packages/matplotlib/backend_bases.py:2453: MatplotlibDeprecationWarning: Using default event loop until function specific to this GUI is implemented\n",
      "  warnings.warn(str, mplDeprecation)\n"
     ]
    },
    {
     "name": "stdout",
     "output_type": "stream",
     "text": [
      "Saving figure to '/Users/geoffperrin/Desktop/CUSP/capstone/computer_vision/training_pictures/defect_pos_0.jpg'... Done\n",
      "Saving figure to '/Users/geoffperrin/Desktop/CUSP/capstone/computer_vision/training_pictures/defect_pos_1.jpg'... Done\n",
      "Saving figure to '/Users/geoffperrin/Desktop/CUSP/capstone/computer_vision/training_pictures/defect_pos_2.jpg'... Done\n",
      "Saving figure to '/Users/geoffperrin/Desktop/CUSP/capstone/computer_vision/training_pictures/defect_pos_3.jpg'... Done\n"
     ]
    }
   ],
   "source": [
    "### create loop to loop through images\n",
    "k = 0\n",
    "for root, dirs, filenames in os.walk(dpath):\n",
    "    for f in filenames[0:50]:\n",
    "        if \".jpg\" in f: \n",
    "            # -- display it using matplotlib\n",
    "            infile = os.path.join(root, f)\n",
    "            img = nd.imread(infile)\n",
    "            ysize = 3.\n",
    "            xsize = ysize * float(img.shape[1]) / float(img.shape[0])\n",
    "            fig_sp, ax_sp = plt.subplots(num=k, figsize=[xsize, ysize])\n",
    "            fig_sp.subplots_adjust(0, 0, 1, 1)\n",
    "            ax_sp.axis(\"off\")\n",
    "            im_sp = ax_sp.imshow(img)\n",
    "            fig_sp.canvas.draw()\n",
    "            # -- grab a point off of the image using ginput\n",
    "            cpos, rpos = [int(round(i)) for i in fig_sp.ginput()[0]]\n",
    "            nrow, ncol = img.shape[:2]\n",
    "            npix = nrow * ncol\n",
    "            rind = np.arange(npix).reshape(nrow, ncol) // ncol\n",
    "            cind = np.arange(npix).reshape(nrow, ncol) % ncol\n",
    "            box_length = 50\n",
    "            ### Crop the image to 50 pixels around where user clicked\n",
    "            croppedPicture = img[(rpos - box_length):(rpos + box_length),(cpos - box_length):(cpos + box_length),:]\n",
    "            # -- redisplay the masked image\n",
    "            im_sp.set_data(croppedPicture)\n",
    "            fig_sp.canvas.draw()\n",
    "            file_save_name = \"defect_pos_\" + str(k)\n",
    "            save(os.path.join(training_path, file_save_name), ext='jpg')\n",
    "            k = k+1"
   ]
  },
  {
   "cell_type": "markdown",
   "metadata": {},
   "source": [
    "## Second, loop through images and click on negative defects (i.e. smooth surfaces)"
   ]
  },
  {
   "cell_type": "code",
   "execution_count": 6,
   "metadata": {
    "collapsed": false
   },
   "outputs": [
    {
     "name": "stdout",
     "output_type": "stream",
     "text": [
      "Saving figure to '/Users/geoffperrin/Desktop/CUSP/capstone/computer_vision/training_pictures/defect_neg_0.jpg'... Done\n",
      "Saving figure to '/Users/geoffperrin/Desktop/CUSP/capstone/computer_vision/training_pictures/defect_neg_1.jpg'... Done\n",
      "Saving figure to '/Users/geoffperrin/Desktop/CUSP/capstone/computer_vision/training_pictures/defect_neg_2.jpg'... Done\n",
      "Saving figure to '/Users/geoffperrin/Desktop/CUSP/capstone/computer_vision/training_pictures/defect_neg_3.jpg'... Done\n"
     ]
    }
   ],
   "source": [
    "### create loop to loop through images\n",
    "k = 0\n",
    "for root, dirs, filenames in os.walk(dpath):\n",
    "    for f in filenames:\n",
    "        if \".jpg\" in f: \n",
    "            # -- display it using matplotlib\n",
    "            infile = os.path.join(root, f)\n",
    "            img = nd.imread(infile)\n",
    "            ysize = 3.\n",
    "            xsize = ysize * float(img.shape[1]) / float(img.shape[0])\n",
    "            fig_sp, ax_sp = plt.subplots(num=k, figsize=[xsize, ysize])\n",
    "            fig_sp.subplots_adjust(0, 0, 1, 1)\n",
    "            ax_sp.axis(\"off\")\n",
    "            im_sp = ax_sp.imshow(img)\n",
    "            fig_sp.canvas.draw()\n",
    "            # -- grab a point off of the image using ginput\n",
    "            cpos, rpos = [int(round(i)) for i in fig_sp.ginput()[0]]\n",
    "            nrow, ncol = img.shape[:2]\n",
    "            npix = nrow * ncol\n",
    "            rind = np.arange(npix).reshape(nrow, ncol) // ncol\n",
    "            cind = np.arange(npix).reshape(nrow, ncol) % ncol\n",
    "            box_length = 50\n",
    "            ### Crop the image to 50 pixels around where user clicked\n",
    "            croppedPicture = img[(rpos - box_length):(rpos + box_length),(cpos - box_length):(cpos + box_length),:]\n",
    "            # -- redisplay the masked image\n",
    "            im_sp.set_data(croppedPicture)\n",
    "            fig_sp.canvas.draw()\n",
    "            file_save_name = \"defect_neg_\" + str(k)\n",
    "            save(os.path.join(training_path, file_save_name), ext='jpg')\n",
    "            k = k+1"
   ]
  },
  {
   "cell_type": "code",
   "execution_count": 7,
   "metadata": {
    "collapsed": true
   },
   "outputs": [],
   "source": [
    "plt.close(\"all\")"
   ]
  },
  {
   "cell_type": "code",
   "execution_count": null,
   "metadata": {
    "collapsed": true
   },
   "outputs": [],
   "source": []
  }
 ],
 "metadata": {
  "anaconda-cloud": {},
  "kernelspec": {
   "display_name": "Python [Root]",
   "language": "python",
   "name": "Python [Root]"
  },
  "language_info": {
   "codemirror_mode": {
    "name": "ipython",
    "version": 2
   },
   "file_extension": ".py",
   "mimetype": "text/x-python",
   "name": "python",
   "nbconvert_exporter": "python",
   "pygments_lexer": "ipython2",
   "version": "2.7.12"
  }
 },
 "nbformat": 4,
 "nbformat_minor": 2
}
