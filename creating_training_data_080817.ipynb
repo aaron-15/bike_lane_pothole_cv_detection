{
 "cells": [
  {
   "cell_type": "code",
   "execution_count": 1,
   "metadata": {
    "collapsed": false
   },
   "outputs": [],
   "source": [
    "import os\n",
    "import numpy as np\n",
    "import scipy.ndimage as nd\n",
    "import matplotlib.pyplot as plt\n",
    "\n",
    "plt.ion() # set interactive matplotlib\n",
    "\n",
    "# -- read in an image with scipy.ndimage\n",
    "dpath  = \"raw_pictures\"\n",
    "training_path = \"/Users/geoffperrin/Desktop/CUSP/capstone/computer_vision/training_pictures\""
   ]
  },
  {
   "cell_type": "markdown",
   "metadata": {},
   "source": [
    "## First, loop through images and click on positive defects (i.e., potholes)"
   ]
  },
  {
   "cell_type": "code",
   "execution_count": 25,
   "metadata": {
    "collapsed": false
   },
   "outputs": [],
   "source": [
    "### create loop to loop through images\n",
    "k = 50\n",
    "for root, dirs, filenames in os.walk(dpath):\n",
    "    for f in filenames[k:k+5]:\n",
    "        if \".jpg\" in f: \n",
    "            # -- display it using matplotlib\n",
    "            infile = os.path.join(root, f)\n",
    "            img = nd.imread(infile)\n",
    "            ysize = 3.\n",
    "            xsize = ysize * float(img.shape[1]) / float(img.shape[0])\n",
    "            fig_sp, ax_sp = plt.subplots(num=k, figsize=[xsize, ysize])\n",
    "            fig_sp.subplots_adjust(0, 0, 1, 1)\n",
    "            ax_sp.axis(\"off\")\n",
    "            im_sp = ax_sp.imshow(img)\n",
    "            fig_sp.canvas.draw()\n",
    "            # -- grab a point off of the image using ginput\n",
    "            cpos, rpos = [int(round(i)) for i in fig_sp.ginput()[0]]\n",
    "            nrow, ncol = img.shape[:2]\n",
    "            npix = nrow * ncol\n",
    "            rind = np.arange(npix).reshape(nrow, ncol) // ncol\n",
    "            cind = np.arange(npix).reshape(nrow, ncol) % ncol\n",
    "            box_length = 25\n",
    "            ### Crop the image to 50 pixels around where user clicked\n",
    "            croppedPicture = img[(rpos - box_length):(rpos + box_length),(cpos - box_length):(cpos + box_length),:]\n",
    "            file_save_name = \"defect_pos_\" + str(k) + \".jpg\"\n",
    "            plt.imsave(os.path.join(training_path, file_save_name), croppedPicture)\n",
    "            k = k+1"
   ]
  },
  {
   "cell_type": "markdown",
   "metadata": {},
   "source": [
    "## Second, loop through images and click on negative defects (i.e. smooth surfaces)"
   ]
  },
  {
   "cell_type": "code",
   "execution_count": 7,
   "metadata": {
    "collapsed": false
   },
   "outputs": [
    {
     "name": "stdout",
     "output_type": "stream",
     "text": [
      "Saving figure to '/Users/geoffperrin/Desktop/CUSP/capstone/computer_vision/training_pictures/defect_neg_50.jpg'... Done\n",
      "Saving figure to '/Users/geoffperrin/Desktop/CUSP/capstone/computer_vision/training_pictures/defect_neg_51.jpg'... Done\n",
      "Saving figure to '/Users/geoffperrin/Desktop/CUSP/capstone/computer_vision/training_pictures/defect_neg_52.jpg'... Done\n",
      "Saving figure to '/Users/geoffperrin/Desktop/CUSP/capstone/computer_vision/training_pictures/defect_neg_53.jpg'... Done\n",
      "Saving figure to '/Users/geoffperrin/Desktop/CUSP/capstone/computer_vision/training_pictures/defect_neg_54.jpg'... Done\n",
      "Saving figure to '/Users/geoffperrin/Desktop/CUSP/capstone/computer_vision/training_pictures/defect_neg_55.jpg'... Done\n",
      "Saving figure to '/Users/geoffperrin/Desktop/CUSP/capstone/computer_vision/training_pictures/defect_neg_56.jpg'... Done\n",
      "Saving figure to '/Users/geoffperrin/Desktop/CUSP/capstone/computer_vision/training_pictures/defect_neg_57.jpg'... Done\n",
      "Saving figure to '/Users/geoffperrin/Desktop/CUSP/capstone/computer_vision/training_pictures/defect_neg_58.jpg'... Done\n",
      "Saving figure to '/Users/geoffperrin/Desktop/CUSP/capstone/computer_vision/training_pictures/defect_neg_59.jpg'... Done\n",
      "Saving figure to '/Users/geoffperrin/Desktop/CUSP/capstone/computer_vision/training_pictures/defect_neg_60.jpg'... Done\n",
      "Saving figure to '/Users/geoffperrin/Desktop/CUSP/capstone/computer_vision/training_pictures/defect_neg_61.jpg'... Done\n",
      "Saving figure to '/Users/geoffperrin/Desktop/CUSP/capstone/computer_vision/training_pictures/defect_neg_62.jpg'... Done\n",
      "Saving figure to '/Users/geoffperrin/Desktop/CUSP/capstone/computer_vision/training_pictures/defect_neg_63.jpg'... Done\n",
      "Saving figure to '/Users/geoffperrin/Desktop/CUSP/capstone/computer_vision/training_pictures/defect_neg_64.jpg'... Done\n",
      "Saving figure to '/Users/geoffperrin/Desktop/CUSP/capstone/computer_vision/training_pictures/defect_neg_65.jpg'... Done\n",
      "Saving figure to '/Users/geoffperrin/Desktop/CUSP/capstone/computer_vision/training_pictures/defect_neg_66.jpg'... Done\n",
      "Saving figure to '/Users/geoffperrin/Desktop/CUSP/capstone/computer_vision/training_pictures/defect_neg_67.jpg'... Done\n",
      "Saving figure to '/Users/geoffperrin/Desktop/CUSP/capstone/computer_vision/training_pictures/defect_neg_68.jpg'... Done\n",
      "Saving figure to '/Users/geoffperrin/Desktop/CUSP/capstone/computer_vision/training_pictures/defect_neg_69.jpg'... Done\n",
      "Saving figure to '/Users/geoffperrin/Desktop/CUSP/capstone/computer_vision/training_pictures/defect_neg_70.jpg'... Done\n",
      "Saving figure to '/Users/geoffperrin/Desktop/CUSP/capstone/computer_vision/training_pictures/defect_neg_71.jpg'... Done\n",
      "Saving figure to '/Users/geoffperrin/Desktop/CUSP/capstone/computer_vision/training_pictures/defect_neg_72.jpg'... Done\n",
      "Saving figure to '/Users/geoffperrin/Desktop/CUSP/capstone/computer_vision/training_pictures/defect_neg_73.jpg'... Done\n",
      "Saving figure to '/Users/geoffperrin/Desktop/CUSP/capstone/computer_vision/training_pictures/defect_neg_74.jpg'... Done\n",
      "Saving figure to '/Users/geoffperrin/Desktop/CUSP/capstone/computer_vision/training_pictures/defect_neg_75.jpg'... Done\n",
      "Saving figure to '/Users/geoffperrin/Desktop/CUSP/capstone/computer_vision/training_pictures/defect_neg_76.jpg'... Done\n",
      "Saving figure to '/Users/geoffperrin/Desktop/CUSP/capstone/computer_vision/training_pictures/defect_neg_77.jpg'... Done\n",
      "Saving figure to '/Users/geoffperrin/Desktop/CUSP/capstone/computer_vision/training_pictures/defect_neg_78.jpg'... Done\n",
      "Saving figure to '/Users/geoffperrin/Desktop/CUSP/capstone/computer_vision/training_pictures/defect_neg_79.jpg'... Done\n",
      "Saving figure to '/Users/geoffperrin/Desktop/CUSP/capstone/computer_vision/training_pictures/defect_neg_80.jpg'... Done\n",
      "Saving figure to '/Users/geoffperrin/Desktop/CUSP/capstone/computer_vision/training_pictures/defect_neg_81.jpg'... Done\n",
      "Saving figure to '/Users/geoffperrin/Desktop/CUSP/capstone/computer_vision/training_pictures/defect_neg_82.jpg'... Done\n",
      "Saving figure to '/Users/geoffperrin/Desktop/CUSP/capstone/computer_vision/training_pictures/defect_neg_83.jpg'... Done\n",
      "Saving figure to '/Users/geoffperrin/Desktop/CUSP/capstone/computer_vision/training_pictures/defect_neg_84.jpg'... Done\n",
      "Saving figure to '/Users/geoffperrin/Desktop/CUSP/capstone/computer_vision/training_pictures/defect_neg_85.jpg'... Done\n",
      "Saving figure to '/Users/geoffperrin/Desktop/CUSP/capstone/computer_vision/training_pictures/defect_neg_86.jpg'... Done\n",
      "Saving figure to '/Users/geoffperrin/Desktop/CUSP/capstone/computer_vision/training_pictures/defect_neg_87.jpg'... Done\n",
      "Saving figure to '/Users/geoffperrin/Desktop/CUSP/capstone/computer_vision/training_pictures/defect_neg_88.jpg'... Done\n",
      "Saving figure to '/Users/geoffperrin/Desktop/CUSP/capstone/computer_vision/training_pictures/defect_neg_89.jpg'... Done\n",
      "Saving figure to '/Users/geoffperrin/Desktop/CUSP/capstone/computer_vision/training_pictures/defect_neg_90.jpg'... Done\n",
      "Saving figure to '/Users/geoffperrin/Desktop/CUSP/capstone/computer_vision/training_pictures/defect_neg_91.jpg'... Done\n",
      "Saving figure to '/Users/geoffperrin/Desktop/CUSP/capstone/computer_vision/training_pictures/defect_neg_92.jpg'... Done\n",
      "Saving figure to '/Users/geoffperrin/Desktop/CUSP/capstone/computer_vision/training_pictures/defect_neg_93.jpg'... Done\n",
      "Saving figure to '/Users/geoffperrin/Desktop/CUSP/capstone/computer_vision/training_pictures/defect_neg_94.jpg'... Done\n",
      "Saving figure to '/Users/geoffperrin/Desktop/CUSP/capstone/computer_vision/training_pictures/defect_neg_95.jpg'... Done\n",
      "Saving figure to '/Users/geoffperrin/Desktop/CUSP/capstone/computer_vision/training_pictures/defect_neg_96.jpg'... Done\n",
      "Saving figure to '/Users/geoffperrin/Desktop/CUSP/capstone/computer_vision/training_pictures/defect_neg_97.jpg'... Done\n",
      "Saving figure to '/Users/geoffperrin/Desktop/CUSP/capstone/computer_vision/training_pictures/defect_neg_98.jpg'... Done\n",
      "Saving figure to '/Users/geoffperrin/Desktop/CUSP/capstone/computer_vision/training_pictures/defect_neg_99.jpg'... Done\n"
     ]
    }
   ],
   "source": [
    "### create loop to loop through images\n",
    "k = 50\n",
    "for root, dirs, filenames in os.walk(dpath):\n",
    "    for f in filenames[k:k+5]:\n",
    "        if \".jpg\" in f: \n",
    "            # -- display it using matplotlib\n",
    "            infile = os.path.join(root, f)\n",
    "            img = nd.imread(infile)\n",
    "            ysize = 3.\n",
    "            xsize = ysize * float(img.shape[1]) / float(img.shape[0])\n",
    "            fig_sp, ax_sp = plt.subplots(num=k, figsize=[xsize, ysize])\n",
    "            fig_sp.subplots_adjust(0, 0, 1, 1)\n",
    "            ax_sp.axis(\"off\")\n",
    "            im_sp = ax_sp.imshow(img)\n",
    "            fig_sp.canvas.draw()\n",
    "            # -- grab a point off of the image using ginput\n",
    "            cpos, rpos = [int(round(i)) for i in fig_sp.ginput()[0]]\n",
    "            nrow, ncol = img.shape[:2]\n",
    "            npix = nrow * ncol\n",
    "            rind = np.arange(npix).reshape(nrow, ncol) // ncol\n",
    "            cind = np.arange(npix).reshape(nrow, ncol) % ncol\n",
    "            box_length = 25\n",
    "            ### Crop the image to 50 pixels around where user clicked\n",
    "            croppedPicture = img[(rpos - box_length):(rpos + box_length),(cpos - box_length):(cpos + box_length),:]\n",
    "            file_save_name = \"defect_neg_\" + str(k) + \".jpg\"\n",
    "            plt.imsave(os.path.join(training_path, file_save_name), croppedPicture)\n",
    "            k = k+1"
   ]
  },
  {
   "cell_type": "code",
   "execution_count": 28,
   "metadata": {
    "collapsed": true
   },
   "outputs": [],
   "source": [
    "plt.close(\"all\")"
   ]
  },
  {
   "cell_type": "code",
   "execution_count": null,
   "metadata": {
    "collapsed": true
   },
   "outputs": [],
   "source": []
  }
 ],
 "metadata": {
  "anaconda-cloud": {},
  "kernelspec": {
   "display_name": "Python [Root]",
   "language": "python",
   "name": "Python [Root]"
  },
  "language_info": {
   "codemirror_mode": {
    "name": "ipython",
    "version": 2
   },
   "file_extension": ".py",
   "mimetype": "text/x-python",
   "name": "python",
   "nbconvert_exporter": "python",
   "pygments_lexer": "ipython2",
   "version": "2.7.12"
  }
 },
 "nbformat": 4,
 "nbformat_minor": 2
}
