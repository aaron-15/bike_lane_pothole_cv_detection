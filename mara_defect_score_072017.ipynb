{
 "cells": [
  {
   "cell_type": "code",
   "execution_count": 1,
   "metadata": {
    "collapsed": true
   },
   "outputs": [],
   "source": [
    "import os,sys,inspect\n",
    "currentdir = os.path.dirname(os.path.abspath(inspect.getfile(inspect.currentframe())))\n",
    "parentdir = os.path.dirname(currentdir)\n",
    "src = os.path.join(parentdir,'src')\n",
    "sys.path.insert(0,src) \n",
    "import functions\n",
    "import pandas as pd\n",
    "import numpy as np\n",
    "import geopandas as gpd\n",
    "import psycopg2\n",
    "\n",
    "import cv2\n",
    "from skimage import img_as_ubyte\n",
    "import os\n",
    "import sys\n",
    "import time\n",
    "import scipy.ndimage as nd\n",
    "import matplotlib.pyplot as plt\n",
    "\n",
    "%matplotlib tk\n",
    "plt.ion() # set interactive mpl\n",
    "plt.rcParams[\"image.cmap\"] = \"gist_gray\""
   ]
  },
  {
   "cell_type": "code",
   "execution_count": 2,
   "metadata": {
    "collapsed": true
   },
   "outputs": [],
   "source": [
    "def getPhoto(photoURL):\n",
    "    photoName = photoURL.split('/')[-1]\n",
    "    os.system('wget ' + photoURL)\n",
    "    img = nd.imread(photoName)\n",
    "    os.system('rm ' + photoName)\n",
    "    return img\n",
    "\n",
    "def photoCroping(photoURL):\n",
    "    img = getPhoto(photoURL)\n",
    "    \n",
    "    #number of rows and number of col\n",
    "    nrow, ncol = img.shape[:2]\n",
    "    #clipping from half the picture to 90% of the picture removes\n",
    "    #the street ahead and also the bike tire\n",
    "    croppedPicture = img[nrow//2:(nrow-nrow//10),:,:]\n",
    "    return croppedPicture\n",
    "\n",
    "def photoPlot(img):\n",
    "    nrow, ncol = img.shape[:2]\n",
    "    xsize = 10.\n",
    "    ysize = xsize * float(nrow) / float(ncol)\n",
    "    \n",
    "    \n",
    "    fig0, ax0 = plt.subplots(num=0, figsize=[xsize, ysize])\n",
    "    fig0.subplots_adjust(0, 0, 1, 1)\n",
    "    ax0.axis(\"off\")\n",
    "    im0 = ax0.imshow(img)\n",
    "    fig0.canvas.draw()"
   ]
  },
  {
   "cell_type": "code",
   "execution_count": 3,
   "metadata": {
    "collapsed": true
   },
   "outputs": [],
   "source": [
    "def photoPlot_w_caption(img, img2, txt, num):\n",
    "    plt.subplot(121),plt.imshow(img, cmap = 'gray')\n",
    "    plt.title('Original Mara'), plt.xticks([]), plt.yticks([])\n",
    "    plt.subplot(122),plt.imshow(img2, cmap = 'gray')\n",
    "    plt.title('Defected Mara'), plt.xticks([]), plt.yticks([])\n",
    "    plt.show()"
   ]
  },
  {
   "cell_type": "code",
   "execution_count": 32,
   "metadata": {
    "collapsed": true
   },
   "outputs": [],
   "source": [
    "def filter_out_line_markings(img):\n",
    "    '''\n",
    "    goal is to filter on color to eliminate line markings\n",
    "    a lot of code taken from here:\n",
    "    http://docs.opencv.org/trunk/df/d9d/tutorial_py_colorspaces.html\n",
    "    '''\n",
    "    lower = np.array([0, 10, 50])\n",
    "    upper = np.array([360, 100, 100])\n",
    "    hls = cv2.cvtColor(img, cv2.COLOR_BGR2HSV)\n",
    "    mask = cv2.inRange(hls, lower, upper)\n",
    "    res = cv2.bitwise_and(hls, hls, mask = mask)\n",
    "    return res"
   ]
  },
  {
   "cell_type": "code",
   "execution_count": 28,
   "metadata": {
    "collapsed": false
   },
   "outputs": [],
   "source": [
    "#importing base image\n",
    "img = nd.imread('/Users/geoffperrin/Desktop/CUSP/capstone/computer_vision/mara/12890022.JPG')\n",
    "    \n",
    "    #determine pothole / crack score\n",
    "md = nd.filters.median_filter\n",
    "\n",
    "    #blur photo\n",
    "md_blurPhoto = md(img, 5)"
   ]
  },
  {
   "cell_type": "code",
   "execution_count": 30,
   "metadata": {
    "collapsed": false
   },
   "outputs": [
    {
     "data": {
      "text/plain": [
       "(2376, 3583, 3)"
      ]
     },
     "execution_count": 30,
     "metadata": {},
     "output_type": "execute_result"
    }
   ],
   "source": [
    "img.shape"
   ]
  },
  {
   "cell_type": "code",
   "execution_count": 33,
   "metadata": {
    "collapsed": false
   },
   "outputs": [],
   "source": [
    "#filter out white line markings\n",
    "photo_no_white = filter_out_line_markings(md_blurPhoto)"
   ]
  },
  {
   "cell_type": "code",
   "execution_count": 34,
   "metadata": {
    "collapsed": false
   },
   "outputs": [],
   "source": [
    "photoPlot(photo_no_white)"
   ]
  },
  {
   "cell_type": "code",
   "execution_count": 35,
   "metadata": {
    "collapsed": false
   },
   "outputs": [],
   "source": [
    "edges_cv = cv2.Canny(md_blurPhoto, 200, 400)\n",
    "\n",
    "#blur edges\n",
    "blurred_edges = cv2.GaussianBlur(edges_cv,(3,3),0)\n",
    "\n",
    "    #only want to keep cracks that are near other cracks or that have a minimum threshold\n",
    "bdilation = nd.morphology.binary_dilation\n",
    "berosion = nd.morphology.binary_erosion\n",
    "edges_2 = bdilation(berosion(blurred_edges, iterations=2), iterations=2)"
   ]
  },
  {
   "cell_type": "code",
   "execution_count": 36,
   "metadata": {
    "collapsed": true
   },
   "outputs": [],
   "source": [
    "photoPlot(edges_2)"
   ]
  },
  {
   "cell_type": "code",
   "execution_count": 37,
   "metadata": {
    "collapsed": true
   },
   "outputs": [],
   "source": [
    "photoPlot_w_caption(img, edges_2, \"\", 0)"
   ]
  },
  {
   "cell_type": "code",
   "execution_count": 38,
   "metadata": {
    "collapsed": false
   },
   "outputs": [
    {
     "data": {
      "text/plain": [
       "0.0050062209216549152"
      ]
     },
     "execution_count": 38,
     "metadata": {},
     "output_type": "execute_result"
    }
   ],
   "source": [
    "edges_2.mean()"
   ]
  },
  {
   "cell_type": "code",
   "execution_count": null,
   "metadata": {
    "collapsed": true
   },
   "outputs": [],
   "source": []
  }
 ],
 "metadata": {
  "kernelspec": {
   "display_name": "Python [Root]",
   "language": "python",
   "name": "Python [Root]"
  },
  "language_info": {
   "codemirror_mode": {
    "name": "ipython",
    "version": 2
   },
   "file_extension": ".py",
   "mimetype": "text/x-python",
   "name": "python",
   "nbconvert_exporter": "python",
   "pygments_lexer": "ipython2",
   "version": "2.7.12"
  }
 },
 "nbformat": 4,
 "nbformat_minor": 2
}
